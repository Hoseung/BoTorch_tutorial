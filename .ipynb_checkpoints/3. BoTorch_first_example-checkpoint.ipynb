{
 "cells": [
  {
   "cell_type": "code",
   "execution_count": 1,
   "metadata": {},
   "outputs": [
    {
     "name": "stderr",
     "output_type": "stream",
     "text": [
      "<frozen importlib._bootstrap>:219: RuntimeWarning: numpy.ufunc size changed, may indicate binary incompatibility. Expected 192 from C header, got 216 from PyObject\n",
      "<frozen importlib._bootstrap>:219: RuntimeWarning: numpy.ufunc size changed, may indicate binary incompatibility. Expected 192 from C header, got 216 from PyObject\n",
      "<frozen importlib._bootstrap>:219: RuntimeWarning: numpy.ufunc size changed, may indicate binary incompatibility. Expected 192 from C header, got 216 from PyObject\n"
     ]
    }
   ],
   "source": [
    "import torch\n",
    "from botorch.models import SingleTaskGP\n",
    "from botorch.fit import fit_gpytorch_model\n",
    "from botorch.utils import standardize\n",
    "from gpytorch.mlls import ExactMarginalLogLikelihood"
   ]
  },
  {
   "cell_type": "markdown",
   "metadata": {},
   "source": [
    "## 0-th example"
   ]
  },
  {
   "cell_type": "markdown",
   "metadata": {},
   "source": [
    "### fit a model"
   ]
  },
  {
   "cell_type": "code",
   "execution_count": 3,
   "metadata": {
    "scrolled": true
   },
   "outputs": [
    {
     "data": {
      "text/plain": [
       "ExactMarginalLogLikelihood(\n",
       "  (likelihood): GaussianLikelihood(\n",
       "    (noise_covar): HomoskedasticNoise(\n",
       "      (noise_prior): GammaPrior()\n",
       "      (raw_noise_constraint): GreaterThan(1.000E-04)\n",
       "    )\n",
       "  )\n",
       "  (model): SingleTaskGP(\n",
       "    (likelihood): GaussianLikelihood(\n",
       "      (noise_covar): HomoskedasticNoise(\n",
       "        (noise_prior): GammaPrior()\n",
       "        (raw_noise_constraint): GreaterThan(1.000E-04)\n",
       "      )\n",
       "    )\n",
       "    (mean_module): ConstantMean()\n",
       "    (covar_module): ScaleKernel(\n",
       "      (base_kernel): MaternKernel(\n",
       "        (lengthscale_prior): GammaPrior()\n",
       "        (raw_lengthscale_constraint): Positive()\n",
       "        (distance_module): Distance()\n",
       "      )\n",
       "      (outputscale_prior): GammaPrior()\n",
       "      (raw_outputscale_constraint): Positive()\n",
       "    )\n",
       "  )\n",
       ")"
      ]
     },
     "execution_count": 3,
     "metadata": {},
     "output_type": "execute_result"
    }
   ],
   "source": [
    "train_X = torch.rand(10,2)\n",
    "Y = 1 - torch.norm(train_X - 0.5, dim=-1, keepdim=True)\n",
    "Y = Y + 0.1 * torch.rand_like(Y) # noise\n",
    "train_Y = standardize(Y)\n",
    "\n",
    "gp = SingleTaskGP(train_X, train_Y)\n",
    "mll = ExactMarginalLogLikelihood(gp.likelihood, gp)\n",
    "fit_gpytorch_model(mll)"
   ]
  },
  {
   "cell_type": "markdown",
   "metadata": {},
   "source": [
    "### Construct an acquision function"
   ]
  },
  {
   "cell_type": "code",
   "execution_count": 9,
   "metadata": {},
   "outputs": [],
   "source": [
    "from botorch.acquisition import UpperConfidenceBound\n",
    "\n",
    "UCB = UpperConfidenceBound(gp, beta=0.1)"
   ]
  },
  {
   "cell_type": "markdown",
   "metadata": {},
   "source": [
    "### Optimize the acquision function"
   ]
  },
  {
   "cell_type": "code",
   "execution_count": 8,
   "metadata": {},
   "outputs": [
    {
     "data": {
      "text/plain": [
       "tensor([[0.4906, 0.5800]])"
      ]
     },
     "execution_count": 8,
     "metadata": {},
     "output_type": "execute_result"
    }
   ],
   "source": [
    "from botorch.optim import optimize_acqf\n",
    "bounds = torch.stack([torch.zeros(2), torch.ones(2)])\n",
    "candidate,acq_value = optimize_acqf(\n",
    "    UCB, bounds=bounds, q=1, num_restarts=5, raw_samples=20,\n",
    ")\n",
    "candidate"
   ]
  },
  {
   "cell_type": "markdown",
   "metadata": {},
   "source": [
    "# [Fitting models in BoTorch with a torch.optim.Optimizer](https://botorch.org/tutorials/fit_model_with_torch_optimizer)\n",
    "\n",
    "\n",
    "BoTorch version of GPyTorch's [Simple GP Regression.](https://docs.gpytorch.ai/en/stable/examples/01_Exact_GPs/Simple_GP_Regression.html)"
   ]
  },
  {
   "cell_type": "code",
   "execution_count": 17,
   "metadata": {},
   "outputs": [],
   "source": [
    "import matplotlib.pyplot as plt \n",
    "import math\n",
    "import torch\n",
    "\n",
    "device = torch.device(\"cuda\" if torch.cuda.is_available() else \"cpu\")\n",
    "dtype = torch.float"
   ]
  },
  {
   "cell_type": "markdown",
   "metadata": {},
   "source": [
    "$$ y = sin(2πx)+ϵ \\\\ \n",
    "error \\quad ϵ∼N(0,0.04)$$"
   ]
  },
  {
   "cell_type": "code",
   "execution_count": 18,
   "metadata": {},
   "outputs": [],
   "source": [
    "train_X = torch.linspace(0, 1, 15, dtype=dtype, device=device)\n",
    "\n",
    "train_X = train_X.unsqueeze(1)\n",
    "\n",
    "train_Y = torch.sin(train_X * (2 * math.pi)) + 0.15 *torch.randn_like(train_X)"
   ]
  },
  {
   "cell_type": "code",
   "execution_count": 20,
   "metadata": {},
   "outputs": [
    {
     "data": {
      "image/png": "[encoded data removed]",
      "text/plain": [
       "<Figure size 432x288 with 1 Axes>"
      ]
     },
     "metadata": {
      "needs_background": "light"
     },
     "output_type": "display_data"
    }
   ],
   "source": [
    "plt.plot(train_X.cpu().detach().numpy(), train_Y.cpu().detach().numpy())\n",
    "plt.show()"
   ]
  },
  {
   "cell_type": "markdown",
   "metadata": {},
   "source": [
    "### Initialize the model\n",
    "with SingleTaskGP (which adopts GaussianLikelihood)\n",
    "\n",
    "### So, what is a MODEL composed of? \n",
    "See [Frazier 2018](https://arxiv.org/abs/1807.02811) for a breif explanation, or [Rasmussen and Williams 2006](http://www.gaussianprocess.org/gpml/chapters/) for a more comprehensive explanation.\n",
    "\n",
    "<ins>I'm NOT confident of this paragraph</ins>  \n",
    "In short, a (GP) model constructs mean vector and covariance matrix of the prior data points. \n",
    "![Frazier18_eq3](Frazier_18_eq3.png)\n",
    "\n",
    "where $\\mu_0$ and $\\Sigma_0$ are called *mean function* and *covariance function/kernel*. \n",
    "A common approach is that to decomposed the equation into system of linear equations by Cholesky decomposition (Algorithm 2.1 of RW06).  \n",
    "Althought it is sometimes assumed that $\\mu_0 = const.$, the kernel $\\Sigma_0$ for measuring covariance is quite sophisticated. One popular choice, called Matern kerenl, is given as:\n",
    "![Marten](GP_Marten_kernel.png)\n",
    "\n",
    "and that's basically what GP model implementation such as scikit-optimize and GPytorch do.\n",
    "\n",
    "\n",
    "*Extra trees*, *Random forest* are another possibilities for surrogate function [Surrogate model comparison](https://scikit-optimize.github.io/stable/auto_examples/strategy-comparison.html#sphx-glr-auto-examples-strategy-comparison-py)"
   ]
  },
  {
   "cell_type": "markdown",
   "metadata": {},
   "source": [
    "< This section is taken from Botorch's [model description page](https://botorch.org/docs/models)>\n",
    " \n",
    "### BoTorch Standard models\n",
    "BoTorch does NOT assume Gaussian Process as models. However, all the pre-built standard models are GPs. Other types of models can be easily implemented and used as far as the implementation conforms to Bototch API. \n",
    "\n",
    "#### SingleTask GPs\n",
    "In contrast to Single Task model, \n",
    "> Multi-Task Model makes use of a logical grouping of inputs/observations (as in the underlying process). For example, there could be multiple tasks where each task has a different fidelity.\n",
    "\n",
    "1. SingleTaskGP: a single-task exact GP that infers a homoskedastic noise level (no noise observations).\n",
    "2. FixedNoiseGP: a single-task exact GP that uses fixed observation noise levels (requires noise observations).\n",
    "3. HeteroskedasticSingleTaskGP: a single-task exact GP that models heteroskedastic noise using an additional internal GP model (requires noise observations).\n",
    "\n",
    "#### Model List of Single-Task GPs\n",
    "1. ModelListGP: A multi-output model in which outcomes are modeled independently, given a list of any type of single-task GP. This model should be used when the same training data is not used for all outputs.\n",
    "\n",
    "#### Multi-Task GPs\n",
    "1. MultiTaskGP: a Hadamard multi-task, multi-output GP using an ICM kernel, inferring the noise level (does not require noise observations).\n",
    "2. FixedNoiseMultiTaskGP: a Hadamard multi-task, multi-output GP using an ICM kernel, with fixed observation noise levels (requires noise observations)."
   ]
  },
  {
   "cell_type": "code",
   "execution_count": 3,
   "metadata": {},
   "outputs": [],
   "source": [
    "from botorch.models import SingleTaskGP\n",
    "from gpytorch.constraints import GreaterThan\n",
    "\n",
    "model = SingleTaskGP(train_X=train_X, train_Y=train_Y)\n",
    "model.likelihood.noise_covar.register_constraint(\"raw_noise\", GreaterThan(1e-5))"
   ]
  },
  {
   "cell_type": "code",
   "execution_count": 13,
   "metadata": {},
   "outputs": [
    {
     "name": "stdout",
     "output_type": "stream",
     "text": [
      "(tensor([[0.0000],\n",
      "        [0.0714],\n",
      "        [0.1429],\n",
      "        [0.2143],\n",
      "        [0.2857],\n",
      "        [0.3571],\n",
      "        [0.4286],\n",
      "        [0.5000],\n",
      "        [0.5714],\n",
      "        [0.6429],\n",
      "        [0.7143],\n",
      "        [0.7857],\n",
      "        [0.8571],\n",
      "        [0.9286],\n",
      "        [1.0000]], device='cuda:0'),)\n",
      "tensor([-0.2118,  0.3412,  0.9194,  0.9378,  0.9158,  0.5417,  0.5972,  0.1728,\n",
      "        -0.7004, -0.7287, -0.9989, -1.0510, -0.7704, -0.3525, -0.1702],\n",
      "       device='cuda:0')\n"
     ]
    }
   ],
   "source": [
    "print(model.train_inputs)\n",
    "print(model.train_targets)"
   ]
  },
  {
   "cell_type": "markdown",
   "metadata": {},
   "source": [
    "### Define marginal loglikelihood\n",
    "\n",
    "Why do I need to define marginal likelihood in the first place? Skopt tutorial never mentioned about marginal likelihood...?\n",
    "\n",
    "Estimating the underlying mean and the underlying covariance of prior data points involves choosing the right *mean function* $\\mu_0$ and *covariance kernel* $\\Sigma_0$ that are specified by a set of hyperparameters $\\eta$.  \n",
    "Most straighforward approach would be to find the *maximum likelihood estimate*(MLE) of\n",
    "\n",
    "$$\\hat{\\eta} = argmax P(f(x_{1:n}) \\vert \\eta)$$  \n",
    "\n",
    "Assuming that each hyperparater is drawn from a prior distribution can add a better controlled result, where now the goal is to find the *maximum a posteriori* (MAP) estimate \n",
    "\n",
    "$$\\hat{\\eta} = argmax P(\\eta \\vert f(x_{1:n})) = argmax P(f(x_{1:n} \\vert \\eta))P(\\eta)$$\n",
    "\n",
    "The MAP approach can be further generalized as a *fully Bayesian* approach, where we marginalize f(x) over all possible hyperparmeters. \n",
    "$$P(f(x) = y \\vert f(x_{1:n})) = \\int{P(f(x) = y \\vert f(x_{1:n}), \\eta) P(\\eta \\vert f(x_{1:n}))d\\eta}$$\n",
    ", which can be approximated by MCMC sampling."
   ]
  },
  {
   "cell_type": "code",
   "execution_count": 4,
   "metadata": {},
   "outputs": [],
   "source": [
    "from gpytorch.mlls import ExactMarginalLogLikelihood"
   ]
  },
  {
   "cell_type": "markdown",
   "metadata": {},
   "source": [
    "What does it mean to define marginal loglikelihood?  \n",
    "`ExactMarginalLogLikelihood` seems very conveniet. But on what constraint it can calculate marginal likelihood?\n",
    "\n",
    "Document says:\n",
    "> The exact marginal log likelihood (MLL) for an exact Gaussian process with a Gaussian likelihood. This module will **not work with anything other** than a GaussianLikelihood and a ExactGP. It also cannot be used in conjunction with stochastic optimization.\n",
    "\n",
    "Then, what to do with the *Other* models? shoul I provide the marginal likelihood or is there an approximate / more computationally intese alternate to `ExactMarginalLogLikelihood`?\n",
    "\n",
    "Yes there are. \n",
    "`gpytorch.mlls` has a few more options: \n",
    "- VariationalELBO \n",
    "- PredictiveLogLikelihood\n",
    "- GammaRobustVariationalELBO\n",
    "- DeepApproximateMLL\n"
   ]
  },
  {
   "cell_type": "code",
   "execution_count": 5,
   "metadata": {},
   "outputs": [
    {
     "data": {
      "text/plain": [
       "GaussianLikelihood(\n",
       "  (noise_covar): HomoskedasticNoise(\n",
       "    (noise_prior): GammaPrior()\n",
       "    (raw_noise_constraint): GreaterThan(1.000E-05)\n",
       "  )\n",
       ")"
      ]
     },
     "execution_count": 5,
     "metadata": {},
     "output_type": "execute_result"
    }
   ],
   "source": [
    "model.likelihood"
   ]
  },
  {
   "cell_type": "markdown",
   "metadata": {},
   "source": [
    "Since I haven't explictely specified a likelihood for my model, GaussianLikelihood must be the default for `SingleTaskGP`.  \n",
    "\n",
    "#### Is it the only possiblity or just the default choice?\n",
    "As the document says,\n",
    "> Since we’re using exact inference, the likelihood **must be Gaussian**.\n"
   ]
  },
  {
   "cell_type": "code",
   "execution_count": 6,
   "metadata": {},
   "outputs": [],
   "source": [
    "mll = ExactMarginalLogLikelihood(likelihood=model.likelihood, model=model)\n",
    "# set mll and all submodules to the specified **dtype and device**\n",
    "mll = mll.to(train_X)"
   ]
  },
  {
   "cell_type": "markdown",
   "metadata": {},
   "source": [
    "### kernel optimizer\n",
    "\n",
    "Use SGD to optimize kernel hyperparameter"
   ]
  },
  {
   "cell_type": "code",
   "execution_count": 10,
   "metadata": {},
   "outputs": [
    {
     "data": {
      "text/plain": [
       "SGD (\n",
       "Parameter Group 0\n",
       "    dampening: 0\n",
       "    lr: 0.1\n",
       "    momentum: 0\n",
       "    nesterov: False\n",
       "    weight_decay: 0\n",
       ")"
      ]
     },
     "execution_count": 10,
     "metadata": {},
     "output_type": "execute_result"
    }
   ],
   "source": [
    "from torch.optim import SGD\n",
    "\n",
    "optimizer = SGD([{'params':model.parameters()}], lr=0.1)\n",
    "optimizer"
   ]
  },
  {
   "cell_type": "code",
   "execution_count": 16,
   "metadata": {},
   "outputs": [
    {
     "name": "stdout",
     "output_type": "stream",
     "text": [
      "Epoch  10/150 - Loss: 1.909 lengthscale: 0.609 noise: 1.870\n",
      "Epoch  20/150 - Loss: 1.871 lengthscale: 0.571 noise: 1.725\n",
      "Epoch  30/150 - Loss: 1.832 lengthscale: 0.539 noise: 1.579\n",
      "Epoch  40/150 - Loss: 1.791 lengthscale: 0.511 noise: 1.432\n",
      "Epoch  50/150 - Loss: 1.749 lengthscale: 0.487 noise: 1.286\n",
      "Epoch  60/150 - Loss: 1.704 lengthscale: 0.465 noise: 1.143\n",
      "Epoch  70/150 - Loss: 1.656 lengthscale: 0.446 noise: 1.004\n",
      "Epoch  80/150 - Loss: 1.605 lengthscale: 0.427 noise: 0.871\n",
      "Epoch  90/150 - Loss: 1.551 lengthscale: 0.410 noise: 0.746\n",
      "Epoch 100/150 - Loss: 1.494 lengthscale: 0.393 noise: 0.631\n",
      "Epoch 110/150 - Loss: 1.434 lengthscale: 0.377 noise: 0.527\n",
      "Epoch 120/150 - Loss: 1.373 lengthscale: 0.361 noise: 0.434\n",
      "Epoch 130/150 - Loss: 1.309 lengthscale: 0.347 noise: 0.354\n",
      "Epoch 140/150 - Loss: 1.246 lengthscale: 0.334 noise: 0.287\n",
      "Epoch 150/150 - Loss: 1.184 lengthscale: 0.325 noise: 0.231\n"
     ]
    }
   ],
   "source": [
    "NUM_EPOCHS = 150\n",
    "\n",
    "model.train() # set to train mode\n",
    "\n",
    "for epoch in range(NUM_EPOCHS):\n",
    "    optimizer.zero_grad()\n",
    "    \n",
    "    output = model(train_X)\n",
    "    \n",
    "    loss = -mll(output, model.train_targets)\n",
    "    # backpropagation: calculate gradient\n",
    "    loss.backward()\n",
    "    \n",
    "    if (epoch + 1) % 10 == 0:\n",
    "        print(\n",
    "            f\"Epoch {epoch+1:>3}/{NUM_EPOCHS} - Loss: {loss.item():>4.3f} \"\n",
    "            f\"lengthscale: {model.covar_module.base_kernel.lengthscale.item():>4.3f} \" \n",
    "            f\"noise: {model.likelihood.noise.item():>4.3f}\" \n",
    "        )\n",
    "    # update parameters\n",
    "    optimizer.step()"
   ]
  },
  {
   "cell_type": "code",
   "execution_count": 23,
   "metadata": {},
   "outputs": [],
   "source": [
    "model.eval();"
   ]
  },
  {
   "cell_type": "code",
   "execution_count": 24,
   "metadata": {},
   "outputs": [
    {
     "data": {
      "image/png": "[encoded data removed]",
      "text/plain": [
       "<Figure size 432x288 with 1 Axes>"
      ]
     },
     "metadata": {
      "needs_background": "light"
     },
     "output_type": "display_data"
    }
   ],
   "source": [
    "f, ax = plt.subplots(1, 1, figsize=(6, 4))\n",
    "# test model on 101 regular spaced points on the interval [0, 1]\n",
    "test_X = torch.linspace(0, 1, 101, dtype=dtype, device=device)\n",
    "# no need for gradients\n",
    "with torch.no_grad():\n",
    "    # compute posterior\n",
    "    posterior = model.posterior(test_X)\n",
    "    # Get upper and lower confidence bounds (2 standard deviations from the mean)\n",
    "    lower, upper = posterior.mvn.confidence_region()\n",
    "    # Plot training points as black stars\n",
    "    ax.plot(train_X.cpu().numpy(), train_Y.cpu().numpy(), 'k*')\n",
    "    # Plot posterior means as blue line\n",
    "    ax.plot(test_X.cpu().numpy(), posterior.mean.cpu().numpy(), 'b')\n",
    "    # Shade between the lower and upper confidence bounds\n",
    "    ax.fill_between(test_X.cpu().numpy(), lower.cpu().numpy(), upper.cpu().numpy(), alpha=0.5)\n",
    "ax.legend(['Observed Data', 'Mean', 'Confidence'])\n",
    "plt.tight_layout()"
   ]
  },
  {
   "cell_type": "code",
   "execution_count": null,
   "metadata": {},
   "outputs": [],
   "source": []
  }
 ],
 "metadata": {
  "kernelspec": {
   "display_name": "Python 3",
   "language": "python",
   "name": "python3"
  },
  "language_info": {
   "codemirror_mode": {
    "name": "ipython",
    "version": 3
   },
   "file_extension": ".py",
   "mimetype": "text/x-python",
   "name": "python",
   "nbconvert_exporter": "python",
   "pygments_lexer": "ipython3",
   "version": "3.8.5"
  }
 },
 "nbformat": 4,
 "nbformat_minor": 2
}
